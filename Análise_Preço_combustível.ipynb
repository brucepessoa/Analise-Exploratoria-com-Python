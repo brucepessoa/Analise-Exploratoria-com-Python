{
  "nbformat": 4,
  "nbformat_minor": 0,
  "metadata": {
    "colab": {
      "name": "Teste combustível.ipynb",
      "provenance": []
    },
    "kernelspec": {
      "name": "python3",
      "display_name": "Python 3"
    },
    "language_info": {
      "name": "python"
    }
  },
  "cells": [
    {
      "cell_type": "markdown",
      "source": [
        "# **Análise Exploratória de Preço de Combustíveis no Brasil** \n",
        "Dataset de preços de combustíveis - 2019/2\n",
        "\n",
        "(em desenvolvimento)\n",
        "\n",
        "Fonte: dados.gov.br"
      ],
      "metadata": {
        "id": "Nvo0yo73xF7T"
      }
    },
    {
      "cell_type": "code",
      "execution_count": null,
      "metadata": {
        "id": "EaUe6ftJIfyC"
      },
      "outputs": [],
      "source": [
        "import pandas as pd\n",
        "import seaborn as srn\n",
        "import statistics  as sts"
      ]
    },
    {
      "cell_type": "code",
      "source": [
        "#importar dados\n",
        "dataset = pd.read_csv(\"sample_data/ca-2019-02.csv\", sep=\";\")\n",
        "#visulizar\n",
        "dataset.head()"
      ],
      "metadata": {
        "id": "vYrfrIYoIxhg"
      },
      "execution_count": null,
      "outputs": []
    },
    {
      "cell_type": "code",
      "source": [
        "#escolhi somente as colunas que me interessavam\n",
        "df = dataset.loc[:,['Regiao - Sigla','Estado - Sigla','Produto','Data da Coleta','Valor de Venda']]\n",
        "df"
      ],
      "metadata": {
        "colab": {
          "base_uri": "https://localhost:8080/",
          "height": 424
        },
        "id": "dy0m17AVJHZr",
        "outputId": "693ee278-949a-4d88-bb05-08a08a79280e"
      },
      "execution_count": null,
      "outputs": [
        {
          "output_type": "execute_result",
          "data": {
            "text/plain": [
              "       Regiao - Sigla Estado - Sigla     Produto Data da Coleta Valor de Venda\n",
              "0                   S             RS    GASOLINA     01/07/2019          4,259\n",
              "1                   S             RS      ETANOL     01/07/2019          4,099\n",
              "2                   S             RS         GNV     01/07/2019          3,449\n",
              "3                  NE             BA    GASOLINA     01/07/2019           4,69\n",
              "4                  NE             BA      ETANOL     01/07/2019           3,49\n",
              "...               ...            ...         ...            ...            ...\n",
              "244926             CO             GO      ETANOL     23/09/2019          2,899\n",
              "244927             CO             GO      DIESEL     23/09/2019          3,699\n",
              "244928             CO             GO  DIESEL S10     23/09/2019          3,799\n",
              "244929             NE             BA    GASOLINA     26/09/2019           4,46\n",
              "244930             NE             BA         NaN            NaN            NaN\n",
              "\n",
              "[244931 rows x 5 columns]"
            ],
            "text/html": [
              "\n",
              "  <div id=\"df-0aca3086-d9d5-4bd0-9a25-11b9851ebb39\">\n",
              "    <div class=\"colab-df-container\">\n",
              "      <div>\n",
              "<style scoped>\n",
              "    .dataframe tbody tr th:only-of-type {\n",
              "        vertical-align: middle;\n",
              "    }\n",
              "\n",
              "    .dataframe tbody tr th {\n",
              "        vertical-align: top;\n",
              "    }\n",
              "\n",
              "    .dataframe thead th {\n",
              "        text-align: right;\n",
              "    }\n",
              "</style>\n",
              "<table border=\"1\" class=\"dataframe\">\n",
              "  <thead>\n",
              "    <tr style=\"text-align: right;\">\n",
              "      <th></th>\n",
              "      <th>Regiao - Sigla</th>\n",
              "      <th>Estado - Sigla</th>\n",
              "      <th>Produto</th>\n",
              "      <th>Data da Coleta</th>\n",
              "      <th>Valor de Venda</th>\n",
              "    </tr>\n",
              "  </thead>\n",
              "  <tbody>\n",
              "    <tr>\n",
              "      <th>0</th>\n",
              "      <td>S</td>\n",
              "      <td>RS</td>\n",
              "      <td>GASOLINA</td>\n",
              "      <td>01/07/2019</td>\n",
              "      <td>4,259</td>\n",
              "    </tr>\n",
              "    <tr>\n",
              "      <th>1</th>\n",
              "      <td>S</td>\n",
              "      <td>RS</td>\n",
              "      <td>ETANOL</td>\n",
              "      <td>01/07/2019</td>\n",
              "      <td>4,099</td>\n",
              "    </tr>\n",
              "    <tr>\n",
              "      <th>2</th>\n",
              "      <td>S</td>\n",
              "      <td>RS</td>\n",
              "      <td>GNV</td>\n",
              "      <td>01/07/2019</td>\n",
              "      <td>3,449</td>\n",
              "    </tr>\n",
              "    <tr>\n",
              "      <th>3</th>\n",
              "      <td>NE</td>\n",
              "      <td>BA</td>\n",
              "      <td>GASOLINA</td>\n",
              "      <td>01/07/2019</td>\n",
              "      <td>4,69</td>\n",
              "    </tr>\n",
              "    <tr>\n",
              "      <th>4</th>\n",
              "      <td>NE</td>\n",
              "      <td>BA</td>\n",
              "      <td>ETANOL</td>\n",
              "      <td>01/07/2019</td>\n",
              "      <td>3,49</td>\n",
              "    </tr>\n",
              "    <tr>\n",
              "      <th>...</th>\n",
              "      <td>...</td>\n",
              "      <td>...</td>\n",
              "      <td>...</td>\n",
              "      <td>...</td>\n",
              "      <td>...</td>\n",
              "    </tr>\n",
              "    <tr>\n",
              "      <th>244926</th>\n",
              "      <td>CO</td>\n",
              "      <td>GO</td>\n",
              "      <td>ETANOL</td>\n",
              "      <td>23/09/2019</td>\n",
              "      <td>2,899</td>\n",
              "    </tr>\n",
              "    <tr>\n",
              "      <th>244927</th>\n",
              "      <td>CO</td>\n",
              "      <td>GO</td>\n",
              "      <td>DIESEL</td>\n",
              "      <td>23/09/2019</td>\n",
              "      <td>3,699</td>\n",
              "    </tr>\n",
              "    <tr>\n",
              "      <th>244928</th>\n",
              "      <td>CO</td>\n",
              "      <td>GO</td>\n",
              "      <td>DIESEL S10</td>\n",
              "      <td>23/09/2019</td>\n",
              "      <td>3,799</td>\n",
              "    </tr>\n",
              "    <tr>\n",
              "      <th>244929</th>\n",
              "      <td>NE</td>\n",
              "      <td>BA</td>\n",
              "      <td>GASOLINA</td>\n",
              "      <td>26/09/2019</td>\n",
              "      <td>4,46</td>\n",
              "    </tr>\n",
              "    <tr>\n",
              "      <th>244930</th>\n",
              "      <td>NE</td>\n",
              "      <td>BA</td>\n",
              "      <td>NaN</td>\n",
              "      <td>NaN</td>\n",
              "      <td>NaN</td>\n",
              "    </tr>\n",
              "  </tbody>\n",
              "</table>\n",
              "<p>244931 rows × 5 columns</p>\n",
              "</div>\n",
              "      <button class=\"colab-df-convert\" onclick=\"convertToInteractive('df-0aca3086-d9d5-4bd0-9a25-11b9851ebb39')\"\n",
              "              title=\"Convert this dataframe to an interactive table.\"\n",
              "              style=\"display:none;\">\n",
              "        \n",
              "  <svg xmlns=\"http://www.w3.org/2000/svg\" height=\"24px\"viewBox=\"0 0 24 24\"\n",
              "       width=\"24px\">\n",
              "    <path d=\"M0 0h24v24H0V0z\" fill=\"none\"/>\n",
              "    <path d=\"M18.56 5.44l.94 2.06.94-2.06 2.06-.94-2.06-.94-.94-2.06-.94 2.06-2.06.94zm-11 1L8.5 8.5l.94-2.06 2.06-.94-2.06-.94L8.5 2.5l-.94 2.06-2.06.94zm10 10l.94 2.06.94-2.06 2.06-.94-2.06-.94-.94-2.06-.94 2.06-2.06.94z\"/><path d=\"M17.41 7.96l-1.37-1.37c-.4-.4-.92-.59-1.43-.59-.52 0-1.04.2-1.43.59L10.3 9.45l-7.72 7.72c-.78.78-.78 2.05 0 2.83L4 21.41c.39.39.9.59 1.41.59.51 0 1.02-.2 1.41-.59l7.78-7.78 2.81-2.81c.8-.78.8-2.07 0-2.86zM5.41 20L4 18.59l7.72-7.72 1.47 1.35L5.41 20z\"/>\n",
              "  </svg>\n",
              "      </button>\n",
              "      \n",
              "  <style>\n",
              "    .colab-df-container {\n",
              "      display:flex;\n",
              "      flex-wrap:wrap;\n",
              "      gap: 12px;\n",
              "    }\n",
              "\n",
              "    .colab-df-convert {\n",
              "      background-color: #E8F0FE;\n",
              "      border: none;\n",
              "      border-radius: 50%;\n",
              "      cursor: pointer;\n",
              "      display: none;\n",
              "      fill: #1967D2;\n",
              "      height: 32px;\n",
              "      padding: 0 0 0 0;\n",
              "      width: 32px;\n",
              "    }\n",
              "\n",
              "    .colab-df-convert:hover {\n",
              "      background-color: #E2EBFA;\n",
              "      box-shadow: 0px 1px 2px rgba(60, 64, 67, 0.3), 0px 1px 3px 1px rgba(60, 64, 67, 0.15);\n",
              "      fill: #174EA6;\n",
              "    }\n",
              "\n",
              "    [theme=dark] .colab-df-convert {\n",
              "      background-color: #3B4455;\n",
              "      fill: #D2E3FC;\n",
              "    }\n",
              "\n",
              "    [theme=dark] .colab-df-convert:hover {\n",
              "      background-color: #434B5C;\n",
              "      box-shadow: 0px 1px 3px 1px rgba(0, 0, 0, 0.15);\n",
              "      filter: drop-shadow(0px 1px 2px rgba(0, 0, 0, 0.3));\n",
              "      fill: #FFFFFF;\n",
              "    }\n",
              "  </style>\n",
              "\n",
              "      <script>\n",
              "        const buttonEl =\n",
              "          document.querySelector('#df-0aca3086-d9d5-4bd0-9a25-11b9851ebb39 button.colab-df-convert');\n",
              "        buttonEl.style.display =\n",
              "          google.colab.kernel.accessAllowed ? 'block' : 'none';\n",
              "\n",
              "        async function convertToInteractive(key) {\n",
              "          const element = document.querySelector('#df-0aca3086-d9d5-4bd0-9a25-11b9851ebb39');\n",
              "          const dataTable =\n",
              "            await google.colab.kernel.invokeFunction('convertToInteractive',\n",
              "                                                     [key], {});\n",
              "          if (!dataTable) return;\n",
              "\n",
              "          const docLinkHtml = 'Like what you see? Visit the ' +\n",
              "            '<a target=\"_blank\" href=https://colab.research.google.com/notebooks/data_table.ipynb>data table notebook</a>'\n",
              "            + ' to learn more about interactive tables.';\n",
              "          element.innerHTML = '';\n",
              "          dataTable['output_type'] = 'display_data';\n",
              "          await google.colab.output.renderOutput(dataTable, element);\n",
              "          const docLink = document.createElement('div');\n",
              "          docLink.innerHTML = docLinkHtml;\n",
              "          element.appendChild(docLink);\n",
              "        }\n",
              "      </script>\n",
              "    </div>\n",
              "  </div>\n",
              "  "
            ]
          },
          "metadata": {},
          "execution_count": 6
        }
      ]
    },
    {
      "cell_type": "code",
      "source": [
        "df.isnull().sum()"
      ],
      "metadata": {
        "colab": {
          "base_uri": "https://localhost:8080/"
        },
        "id": "pWRV2csgL5TL",
        "outputId": "a7c97592-9f23-4944-96d6-d9da9fbaf4d5"
      },
      "execution_count": null,
      "outputs": [
        {
          "output_type": "execute_result",
          "data": {
            "text/plain": [
              "Regiao - Sigla    0\n",
              "Estado - Sigla    0\n",
              "Produto           0\n",
              "Data da Coleta    0\n",
              "Valor de Venda    0\n",
              "dtype: int64"
            ]
          },
          "metadata": {},
          "execution_count": 36
        }
      ]
    },
    {
      "cell_type": "code",
      "source": [
        "#visualizar qual linha contém valor NaN\n",
        "df.loc[df['Produto'].isnull()]"
      ],
      "metadata": {
        "colab": {
          "base_uri": "https://localhost:8080/",
          "height": 49
        },
        "id": "ilXiAwPCznoO",
        "outputId": "e1987c8d-d71c-4225-8422-a5f3d7366190"
      },
      "execution_count": null,
      "outputs": [
        {
          "output_type": "execute_result",
          "data": {
            "text/plain": [
              "Empty DataFrame\n",
              "Columns: [Regiao - Sigla, Estado - Sigla, Produto, Data da Coleta, Valor de Venda]\n",
              "Index: []"
            ],
            "text/html": [
              "\n",
              "  <div id=\"df-111bfc17-ae19-4a2d-86a3-c23b4e756a08\">\n",
              "    <div class=\"colab-df-container\">\n",
              "      <div>\n",
              "<style scoped>\n",
              "    .dataframe tbody tr th:only-of-type {\n",
              "        vertical-align: middle;\n",
              "    }\n",
              "\n",
              "    .dataframe tbody tr th {\n",
              "        vertical-align: top;\n",
              "    }\n",
              "\n",
              "    .dataframe thead th {\n",
              "        text-align: right;\n",
              "    }\n",
              "</style>\n",
              "<table border=\"1\" class=\"dataframe\">\n",
              "  <thead>\n",
              "    <tr style=\"text-align: right;\">\n",
              "      <th></th>\n",
              "      <th>Regiao - Sigla</th>\n",
              "      <th>Estado - Sigla</th>\n",
              "      <th>Produto</th>\n",
              "      <th>Data da Coleta</th>\n",
              "      <th>Valor de Venda</th>\n",
              "    </tr>\n",
              "  </thead>\n",
              "  <tbody>\n",
              "  </tbody>\n",
              "</table>\n",
              "</div>\n",
              "      <button class=\"colab-df-convert\" onclick=\"convertToInteractive('df-111bfc17-ae19-4a2d-86a3-c23b4e756a08')\"\n",
              "              title=\"Convert this dataframe to an interactive table.\"\n",
              "              style=\"display:none;\">\n",
              "        \n",
              "  <svg xmlns=\"http://www.w3.org/2000/svg\" height=\"24px\"viewBox=\"0 0 24 24\"\n",
              "       width=\"24px\">\n",
              "    <path d=\"M0 0h24v24H0V0z\" fill=\"none\"/>\n",
              "    <path d=\"M18.56 5.44l.94 2.06.94-2.06 2.06-.94-2.06-.94-.94-2.06-.94 2.06-2.06.94zm-11 1L8.5 8.5l.94-2.06 2.06-.94-2.06-.94L8.5 2.5l-.94 2.06-2.06.94zm10 10l.94 2.06.94-2.06 2.06-.94-2.06-.94-.94-2.06-.94 2.06-2.06.94z\"/><path d=\"M17.41 7.96l-1.37-1.37c-.4-.4-.92-.59-1.43-.59-.52 0-1.04.2-1.43.59L10.3 9.45l-7.72 7.72c-.78.78-.78 2.05 0 2.83L4 21.41c.39.39.9.59 1.41.59.51 0 1.02-.2 1.41-.59l7.78-7.78 2.81-2.81c.8-.78.8-2.07 0-2.86zM5.41 20L4 18.59l7.72-7.72 1.47 1.35L5.41 20z\"/>\n",
              "  </svg>\n",
              "      </button>\n",
              "      \n",
              "  <style>\n",
              "    .colab-df-container {\n",
              "      display:flex;\n",
              "      flex-wrap:wrap;\n",
              "      gap: 12px;\n",
              "    }\n",
              "\n",
              "    .colab-df-convert {\n",
              "      background-color: #E8F0FE;\n",
              "      border: none;\n",
              "      border-radius: 50%;\n",
              "      cursor: pointer;\n",
              "      display: none;\n",
              "      fill: #1967D2;\n",
              "      height: 32px;\n",
              "      padding: 0 0 0 0;\n",
              "      width: 32px;\n",
              "    }\n",
              "\n",
              "    .colab-df-convert:hover {\n",
              "      background-color: #E2EBFA;\n",
              "      box-shadow: 0px 1px 2px rgba(60, 64, 67, 0.3), 0px 1px 3px 1px rgba(60, 64, 67, 0.15);\n",
              "      fill: #174EA6;\n",
              "    }\n",
              "\n",
              "    [theme=dark] .colab-df-convert {\n",
              "      background-color: #3B4455;\n",
              "      fill: #D2E3FC;\n",
              "    }\n",
              "\n",
              "    [theme=dark] .colab-df-convert:hover {\n",
              "      background-color: #434B5C;\n",
              "      box-shadow: 0px 1px 3px 1px rgba(0, 0, 0, 0.15);\n",
              "      filter: drop-shadow(0px 1px 2px rgba(0, 0, 0, 0.3));\n",
              "      fill: #FFFFFF;\n",
              "    }\n",
              "  </style>\n",
              "\n",
              "      <script>\n",
              "        const buttonEl =\n",
              "          document.querySelector('#df-111bfc17-ae19-4a2d-86a3-c23b4e756a08 button.colab-df-convert');\n",
              "        buttonEl.style.display =\n",
              "          google.colab.kernel.accessAllowed ? 'block' : 'none';\n",
              "\n",
              "        async function convertToInteractive(key) {\n",
              "          const element = document.querySelector('#df-111bfc17-ae19-4a2d-86a3-c23b4e756a08');\n",
              "          const dataTable =\n",
              "            await google.colab.kernel.invokeFunction('convertToInteractive',\n",
              "                                                     [key], {});\n",
              "          if (!dataTable) return;\n",
              "\n",
              "          const docLinkHtml = 'Like what you see? Visit the ' +\n",
              "            '<a target=\"_blank\" href=https://colab.research.google.com/notebooks/data_table.ipynb>data table notebook</a>'\n",
              "            + ' to learn more about interactive tables.';\n",
              "          element.innerHTML = '';\n",
              "          dataTable['output_type'] = 'display_data';\n",
              "          await google.colab.output.renderOutput(dataTable, element);\n",
              "          const docLink = document.createElement('div');\n",
              "          docLink.innerHTML = docLinkHtml;\n",
              "          element.appendChild(docLink);\n",
              "        }\n",
              "      </script>\n",
              "    </div>\n",
              "  </div>\n",
              "  "
            ]
          },
          "metadata": {},
          "execution_count": 37
        }
      ]
    },
    {
      "cell_type": "code",
      "source": [
        "# apagar o registro com valor NaN\n",
        "df.drop([df.index[244930]], inplace=True)"
      ],
      "metadata": {
        "id": "XyPF_4WozE30"
      },
      "execution_count": null,
      "outputs": []
    },
    {
      "cell_type": "code",
      "source": [
        "# conferindo se registro foi apagado\n",
        "df.loc[df['Produto'].isnull()]"
      ],
      "metadata": {
        "id": "jYLJ5i7zMcmq",
        "colab": {
          "base_uri": "https://localhost:8080/",
          "height": 49
        },
        "outputId": "bcf91846-5b63-41e4-8b4d-879fa4ff2140"
      },
      "execution_count": null,
      "outputs": [
        {
          "output_type": "execute_result",
          "data": {
            "text/plain": [
              "Empty DataFrame\n",
              "Columns: [Regiao - Sigla, Estado - Sigla, Produto, Data da Coleta, Valor de Venda]\n",
              "Index: []"
            ],
            "text/html": [
              "\n",
              "  <div id=\"df-da3ddf11-12b8-4adf-b9b2-a8f3e89e4460\">\n",
              "    <div class=\"colab-df-container\">\n",
              "      <div>\n",
              "<style scoped>\n",
              "    .dataframe tbody tr th:only-of-type {\n",
              "        vertical-align: middle;\n",
              "    }\n",
              "\n",
              "    .dataframe tbody tr th {\n",
              "        vertical-align: top;\n",
              "    }\n",
              "\n",
              "    .dataframe thead th {\n",
              "        text-align: right;\n",
              "    }\n",
              "</style>\n",
              "<table border=\"1\" class=\"dataframe\">\n",
              "  <thead>\n",
              "    <tr style=\"text-align: right;\">\n",
              "      <th></th>\n",
              "      <th>Regiao - Sigla</th>\n",
              "      <th>Estado - Sigla</th>\n",
              "      <th>Produto</th>\n",
              "      <th>Data da Coleta</th>\n",
              "      <th>Valor de Venda</th>\n",
              "    </tr>\n",
              "  </thead>\n",
              "  <tbody>\n",
              "  </tbody>\n",
              "</table>\n",
              "</div>\n",
              "      <button class=\"colab-df-convert\" onclick=\"convertToInteractive('df-da3ddf11-12b8-4adf-b9b2-a8f3e89e4460')\"\n",
              "              title=\"Convert this dataframe to an interactive table.\"\n",
              "              style=\"display:none;\">\n",
              "        \n",
              "  <svg xmlns=\"http://www.w3.org/2000/svg\" height=\"24px\"viewBox=\"0 0 24 24\"\n",
              "       width=\"24px\">\n",
              "    <path d=\"M0 0h24v24H0V0z\" fill=\"none\"/>\n",
              "    <path d=\"M18.56 5.44l.94 2.06.94-2.06 2.06-.94-2.06-.94-.94-2.06-.94 2.06-2.06.94zm-11 1L8.5 8.5l.94-2.06 2.06-.94-2.06-.94L8.5 2.5l-.94 2.06-2.06.94zm10 10l.94 2.06.94-2.06 2.06-.94-2.06-.94-.94-2.06-.94 2.06-2.06.94z\"/><path d=\"M17.41 7.96l-1.37-1.37c-.4-.4-.92-.59-1.43-.59-.52 0-1.04.2-1.43.59L10.3 9.45l-7.72 7.72c-.78.78-.78 2.05 0 2.83L4 21.41c.39.39.9.59 1.41.59.51 0 1.02-.2 1.41-.59l7.78-7.78 2.81-2.81c.8-.78.8-2.07 0-2.86zM5.41 20L4 18.59l7.72-7.72 1.47 1.35L5.41 20z\"/>\n",
              "  </svg>\n",
              "      </button>\n",
              "      \n",
              "  <style>\n",
              "    .colab-df-container {\n",
              "      display:flex;\n",
              "      flex-wrap:wrap;\n",
              "      gap: 12px;\n",
              "    }\n",
              "\n",
              "    .colab-df-convert {\n",
              "      background-color: #E8F0FE;\n",
              "      border: none;\n",
              "      border-radius: 50%;\n",
              "      cursor: pointer;\n",
              "      display: none;\n",
              "      fill: #1967D2;\n",
              "      height: 32px;\n",
              "      padding: 0 0 0 0;\n",
              "      width: 32px;\n",
              "    }\n",
              "\n",
              "    .colab-df-convert:hover {\n",
              "      background-color: #E2EBFA;\n",
              "      box-shadow: 0px 1px 2px rgba(60, 64, 67, 0.3), 0px 1px 3px 1px rgba(60, 64, 67, 0.15);\n",
              "      fill: #174EA6;\n",
              "    }\n",
              "\n",
              "    [theme=dark] .colab-df-convert {\n",
              "      background-color: #3B4455;\n",
              "      fill: #D2E3FC;\n",
              "    }\n",
              "\n",
              "    [theme=dark] .colab-df-convert:hover {\n",
              "      background-color: #434B5C;\n",
              "      box-shadow: 0px 1px 3px 1px rgba(0, 0, 0, 0.15);\n",
              "      filter: drop-shadow(0px 1px 2px rgba(0, 0, 0, 0.3));\n",
              "      fill: #FFFFFF;\n",
              "    }\n",
              "  </style>\n",
              "\n",
              "      <script>\n",
              "        const buttonEl =\n",
              "          document.querySelector('#df-da3ddf11-12b8-4adf-b9b2-a8f3e89e4460 button.colab-df-convert');\n",
              "        buttonEl.style.display =\n",
              "          google.colab.kernel.accessAllowed ? 'block' : 'none';\n",
              "\n",
              "        async function convertToInteractive(key) {\n",
              "          const element = document.querySelector('#df-da3ddf11-12b8-4adf-b9b2-a8f3e89e4460');\n",
              "          const dataTable =\n",
              "            await google.colab.kernel.invokeFunction('convertToInteractive',\n",
              "                                                     [key], {});\n",
              "          if (!dataTable) return;\n",
              "\n",
              "          const docLinkHtml = 'Like what you see? Visit the ' +\n",
              "            '<a target=\"_blank\" href=https://colab.research.google.com/notebooks/data_table.ipynb>data table notebook</a>'\n",
              "            + ' to learn more about interactive tables.';\n",
              "          element.innerHTML = '';\n",
              "          dataTable['output_type'] = 'display_data';\n",
              "          await google.colab.output.renderOutput(dataTable, element);\n",
              "          const docLink = document.createElement('div');\n",
              "          docLink.innerHTML = docLinkHtml;\n",
              "          element.appendChild(docLink);\n",
              "        }\n",
              "      </script>\n",
              "    </div>\n",
              "  </div>\n",
              "  "
            ]
          },
          "metadata": {},
          "execution_count": 22
        }
      ]
    },
    {
      "cell_type": "code",
      "source": [
        "##### exibir somente RJ  #####################\n",
        "rj = df.loc[(df['Estado - Sigla']=='RJ')]"
      ],
      "metadata": {
        "id": "FxWZo7qpdzYo"
      },
      "execution_count": null,
      "outputs": []
    },
    {
      "cell_type": "code",
      "source": [
        "rj.head()"
      ],
      "metadata": {
        "colab": {
          "base_uri": "https://localhost:8080/",
          "height": 206
        },
        "id": "1IFwJVZJ6LBY",
        "outputId": "6e7187b1-531e-4cf7-9d7e-25f514c61846"
      },
      "execution_count": null,
      "outputs": [
        {
          "output_type": "execute_result",
          "data": {
            "text/plain": [
              "     Regiao - Sigla Estado - Sigla     Produto Data da Coleta  Valor de Venda\n",
              "4109             SE             RJ    GASOLINA     01/07/2019           5.099\n",
              "4110             SE             RJ      ETANOL     01/07/2019           3.999\n",
              "4111             SE             RJ  DIESEL S10     01/07/2019           3.999\n",
              "4112             SE             RJ    GASOLINA     01/07/2019           5.089\n",
              "4113             SE             RJ      ETANOL     01/07/2019           4.097"
            ],
            "text/html": [
              "\n",
              "  <div id=\"df-29b2d2c6-4dc3-4115-a419-e1d264f88510\">\n",
              "    <div class=\"colab-df-container\">\n",
              "      <div>\n",
              "<style scoped>\n",
              "    .dataframe tbody tr th:only-of-type {\n",
              "        vertical-align: middle;\n",
              "    }\n",
              "\n",
              "    .dataframe tbody tr th {\n",
              "        vertical-align: top;\n",
              "    }\n",
              "\n",
              "    .dataframe thead th {\n",
              "        text-align: right;\n",
              "    }\n",
              "</style>\n",
              "<table border=\"1\" class=\"dataframe\">\n",
              "  <thead>\n",
              "    <tr style=\"text-align: right;\">\n",
              "      <th></th>\n",
              "      <th>Regiao - Sigla</th>\n",
              "      <th>Estado - Sigla</th>\n",
              "      <th>Produto</th>\n",
              "      <th>Data da Coleta</th>\n",
              "      <th>Valor de Venda</th>\n",
              "    </tr>\n",
              "  </thead>\n",
              "  <tbody>\n",
              "    <tr>\n",
              "      <th>4109</th>\n",
              "      <td>SE</td>\n",
              "      <td>RJ</td>\n",
              "      <td>GASOLINA</td>\n",
              "      <td>01/07/2019</td>\n",
              "      <td>5.099</td>\n",
              "    </tr>\n",
              "    <tr>\n",
              "      <th>4110</th>\n",
              "      <td>SE</td>\n",
              "      <td>RJ</td>\n",
              "      <td>ETANOL</td>\n",
              "      <td>01/07/2019</td>\n",
              "      <td>3.999</td>\n",
              "    </tr>\n",
              "    <tr>\n",
              "      <th>4111</th>\n",
              "      <td>SE</td>\n",
              "      <td>RJ</td>\n",
              "      <td>DIESEL S10</td>\n",
              "      <td>01/07/2019</td>\n",
              "      <td>3.999</td>\n",
              "    </tr>\n",
              "    <tr>\n",
              "      <th>4112</th>\n",
              "      <td>SE</td>\n",
              "      <td>RJ</td>\n",
              "      <td>GASOLINA</td>\n",
              "      <td>01/07/2019</td>\n",
              "      <td>5.089</td>\n",
              "    </tr>\n",
              "    <tr>\n",
              "      <th>4113</th>\n",
              "      <td>SE</td>\n",
              "      <td>RJ</td>\n",
              "      <td>ETANOL</td>\n",
              "      <td>01/07/2019</td>\n",
              "      <td>4.097</td>\n",
              "    </tr>\n",
              "  </tbody>\n",
              "</table>\n",
              "</div>\n",
              "      <button class=\"colab-df-convert\" onclick=\"convertToInteractive('df-29b2d2c6-4dc3-4115-a419-e1d264f88510')\"\n",
              "              title=\"Convert this dataframe to an interactive table.\"\n",
              "              style=\"display:none;\">\n",
              "        \n",
              "  <svg xmlns=\"http://www.w3.org/2000/svg\" height=\"24px\"viewBox=\"0 0 24 24\"\n",
              "       width=\"24px\">\n",
              "    <path d=\"M0 0h24v24H0V0z\" fill=\"none\"/>\n",
              "    <path d=\"M18.56 5.44l.94 2.06.94-2.06 2.06-.94-2.06-.94-.94-2.06-.94 2.06-2.06.94zm-11 1L8.5 8.5l.94-2.06 2.06-.94-2.06-.94L8.5 2.5l-.94 2.06-2.06.94zm10 10l.94 2.06.94-2.06 2.06-.94-2.06-.94-.94-2.06-.94 2.06-2.06.94z\"/><path d=\"M17.41 7.96l-1.37-1.37c-.4-.4-.92-.59-1.43-.59-.52 0-1.04.2-1.43.59L10.3 9.45l-7.72 7.72c-.78.78-.78 2.05 0 2.83L4 21.41c.39.39.9.59 1.41.59.51 0 1.02-.2 1.41-.59l7.78-7.78 2.81-2.81c.8-.78.8-2.07 0-2.86zM5.41 20L4 18.59l7.72-7.72 1.47 1.35L5.41 20z\"/>\n",
              "  </svg>\n",
              "      </button>\n",
              "      \n",
              "  <style>\n",
              "    .colab-df-container {\n",
              "      display:flex;\n",
              "      flex-wrap:wrap;\n",
              "      gap: 12px;\n",
              "    }\n",
              "\n",
              "    .colab-df-convert {\n",
              "      background-color: #E8F0FE;\n",
              "      border: none;\n",
              "      border-radius: 50%;\n",
              "      cursor: pointer;\n",
              "      display: none;\n",
              "      fill: #1967D2;\n",
              "      height: 32px;\n",
              "      padding: 0 0 0 0;\n",
              "      width: 32px;\n",
              "    }\n",
              "\n",
              "    .colab-df-convert:hover {\n",
              "      background-color: #E2EBFA;\n",
              "      box-shadow: 0px 1px 2px rgba(60, 64, 67, 0.3), 0px 1px 3px 1px rgba(60, 64, 67, 0.15);\n",
              "      fill: #174EA6;\n",
              "    }\n",
              "\n",
              "    [theme=dark] .colab-df-convert {\n",
              "      background-color: #3B4455;\n",
              "      fill: #D2E3FC;\n",
              "    }\n",
              "\n",
              "    [theme=dark] .colab-df-convert:hover {\n",
              "      background-color: #434B5C;\n",
              "      box-shadow: 0px 1px 3px 1px rgba(0, 0, 0, 0.15);\n",
              "      filter: drop-shadow(0px 1px 2px rgba(0, 0, 0, 0.3));\n",
              "      fill: #FFFFFF;\n",
              "    }\n",
              "  </style>\n",
              "\n",
              "      <script>\n",
              "        const buttonEl =\n",
              "          document.querySelector('#df-29b2d2c6-4dc3-4115-a419-e1d264f88510 button.colab-df-convert');\n",
              "        buttonEl.style.display =\n",
              "          google.colab.kernel.accessAllowed ? 'block' : 'none';\n",
              "\n",
              "        async function convertToInteractive(key) {\n",
              "          const element = document.querySelector('#df-29b2d2c6-4dc3-4115-a419-e1d264f88510');\n",
              "          const dataTable =\n",
              "            await google.colab.kernel.invokeFunction('convertToInteractive',\n",
              "                                                     [key], {});\n",
              "          if (!dataTable) return;\n",
              "\n",
              "          const docLinkHtml = 'Like what you see? Visit the ' +\n",
              "            '<a target=\"_blank\" href=https://colab.research.google.com/notebooks/data_table.ipynb>data table notebook</a>'\n",
              "            + ' to learn more about interactive tables.';\n",
              "          element.innerHTML = '';\n",
              "          dataTable['output_type'] = 'display_data';\n",
              "          await google.colab.output.renderOutput(dataTable, element);\n",
              "          const docLink = document.createElement('div');\n",
              "          docLink.innerHTML = docLinkHtml;\n",
              "          element.appendChild(docLink);\n",
              "        }\n",
              "      </script>\n",
              "    </div>\n",
              "  </div>\n",
              "  "
            ]
          },
          "metadata": {},
          "execution_count": 35
        }
      ]
    },
    {
      "cell_type": "code",
      "source": [
        "rj.info()"
      ],
      "metadata": {
        "id": "5Nn6LmFu-Nha"
      },
      "execution_count": null,
      "outputs": []
    },
    {
      "cell_type": "code",
      "source": [
        "rj['Valor de Venda'].describe()"
      ],
      "metadata": {
        "id": "nsECf0ewQQ14",
        "colab": {
          "base_uri": "https://localhost:8080/"
        },
        "outputId": "4509778c-9d49-4236-b887-02a18071b030"
      },
      "execution_count": null,
      "outputs": [
        {
          "output_type": "execute_result",
          "data": {
            "text/plain": [
              "count    19201.000000\n",
              "mean         3.969626\n",
              "std          0.601717\n",
              "min          2.699000\n",
              "25%          3.499000\n",
              "50%          3.799000\n",
              "75%          4.599000\n",
              "max          5.859000\n",
              "Name: Valor de Venda, dtype: float64"
            ]
          },
          "metadata": {},
          "execution_count": 40
        }
      ]
    },
    {
      "cell_type": "code",
      "source": [
        "#O Describe() anterior não exibiu a estatística. Pode ser porque a coluna era do tipo Object\n",
        "#converti a coluna Valor de Venda para float, substituindo a vírgula por ponto. Usar o astype direto não deu certo por causa da vírgula.\n",
        "\n",
        "#df['Valor de Venda'] = df['Valor de Venda'].str.replace(',','.').astype(\"float\")"
      ],
      "metadata": {
        "id": "n_hyaEnuUDSl"
      },
      "execution_count": null,
      "outputs": []
    },
    {
      "cell_type": "code",
      "source": [
        "srn.boxplot(rj['Valor de Venda']).set_title('Valor de Venda')"
      ],
      "metadata": {
        "id": "mIVZ8inPWxoQ",
        "colab": {
          "base_uri": "https://localhost:8080/",
          "height": 367
        },
        "outputId": "dbb98d6b-b2c4-4105-8736-dbc6d1350048"
      },
      "execution_count": null,
      "outputs": [
        {
          "output_type": "stream",
          "name": "stderr",
          "text": [
            "/usr/local/lib/python3.7/dist-packages/seaborn/_decorators.py:43: FutureWarning: Pass the following variable as a keyword arg: x. From version 0.12, the only valid positional argument will be `data`, and passing other arguments without an explicit keyword will result in an error or misinterpretation.\n",
            "  FutureWarning\n"
          ]
        },
        {
          "output_type": "execute_result",
          "data": {
            "text/plain": [
              "Text(0.5, 1.0, 'Valor de Venda')"
            ]
          },
          "metadata": {},
          "execution_count": 41
        },
        {
          "output_type": "display_data",
          "data": {
            "text/plain": [
              "<Figure size 432x288 with 1 Axes>"
            ],
            "image/png": "[encoded data removed]"
          },
          "metadata": {
            "needs_background": "light"
          }
        }
      ]
    },
    {
      "cell_type": "code",
      "source": [
        "srn.displot(rj['Valor de Venda'])"
      ],
      "metadata": {
        "id": "00CqFKjtXDGQ",
        "colab": {
          "base_uri": "https://localhost:8080/",
          "height": 386
        },
        "outputId": "385798dc-9317-4606-bcfe-2a51e11c8f51"
      },
      "execution_count": null,
      "outputs": [
        {
          "output_type": "execute_result",
          "data": {
            "text/plain": [
              "<seaborn.axisgrid.FacetGrid at 0x7fc1ffe06b90>"
            ]
          },
          "metadata": {},
          "execution_count": 42
        },
        {
          "output_type": "display_data",
          "data": {
            "text/plain": [
              "<Figure size 360x360 with 1 Axes>"
            ],
            "image/png": "[encoded data removed]"
          },
          "metadata": {
            "needs_background": "light"
          }
        }
      ]
    },
    {
      "cell_type": "markdown",
      "source": [
        "1) O eixo Y (count) representa a frequência com o que o valor aparece no dataframe?"
      ],
      "metadata": {
        "id": "xtKmISm_aeeV"
      }
    },
    {
      "cell_type": "code",
      "source": [
        "srn.distplot(rj['Valor de Venda'])"
      ],
      "metadata": {
        "id": "5XqRRtvZXcTc",
        "colab": {
          "base_uri": "https://localhost:8080/",
          "height": 351
        },
        "outputId": "258c34cb-ed55-4f8d-c71a-84407ecd79e2"
      },
      "execution_count": null,
      "outputs": [
        {
          "output_type": "stream",
          "name": "stderr",
          "text": [
            "/usr/local/lib/python3.7/dist-packages/seaborn/distributions.py:2619: FutureWarning: `distplot` is a deprecated function and will be removed in a future version. Please adapt your code to use either `displot` (a figure-level function with similar flexibility) or `histplot` (an axes-level function for histograms).\n",
            "  warnings.warn(msg, FutureWarning)\n"
          ]
        },
        {
          "output_type": "execute_result",
          "data": {
            "text/plain": [
              "<matplotlib.axes._subplots.AxesSubplot at 0x7fc1ffc08610>"
            ]
          },
          "metadata": {},
          "execution_count": 43
        },
        {
          "output_type": "display_data",
          "data": {
            "text/plain": [
              "<Figure size 432x288 with 1 Axes>"
            ],
            "image/png": "[encoded data removed]"
          },
          "metadata": {
            "needs_background": "light"
          }
        }
      ]
    },
    {
      "cell_type": "code",
      "source": [
        "combustivel = rj.groupby(['Produto']).size()\n",
        "combustivel"
      ],
      "metadata": {
        "id": "u05raXnfX5A9",
        "colab": {
          "base_uri": "https://localhost:8080/"
        },
        "outputId": "1b22b5ca-d039-4946-89a4-031530bcaacc"
      },
      "execution_count": null,
      "outputs": [
        {
          "output_type": "execute_result",
          "data": {
            "text/plain": [
              "Produto\n",
              "DIESEL        2716\n",
              "DIESEL S10    4238\n",
              "ETANOL        5348\n",
              "GASOLINA      5435\n",
              "GNV           1464\n",
              "dtype: int64"
            ]
          },
          "metadata": {},
          "execution_count": 44
        }
      ]
    },
    {
      "cell_type": "code",
      "source": [
        "combustivel.plot.bar(color = 'gray')"
      ],
      "metadata": {
        "id": "FkbZh3DIYXrw",
        "colab": {
          "base_uri": "https://localhost:8080/",
          "height": 343
        },
        "outputId": "9a26cb47-73d9-4a9d-df7a-5c6c2ef3dba7"
      },
      "execution_count": null,
      "outputs": [
        {
          "output_type": "execute_result",
          "data": {
            "text/plain": [
              "<matplotlib.axes._subplots.AxesSubplot at 0x7fc1ffaeb9d0>"
            ]
          },
          "metadata": {},
          "execution_count": 45
        },
        {
          "output_type": "display_data",
          "data": {
            "text/plain": [
              "<Figure size 432x288 with 1 Axes>"
            ],
            "image/png": "[encoded data removed]"
          },
          "metadata": {
            "needs_background": "light"
          }
        }
      ]
    },
    {
      "cell_type": "markdown",
      "source": [
        "# Qual estado teve mais aumento?"
      ],
      "metadata": {
        "id": "GA1vWCrBZjsF"
      }
    },
    {
      "cell_type": "markdown",
      "source": [
        "# Série Temporal do valor do combustível"
      ],
      "metadata": {
        "id": "BqVtHhFCDyuR"
      }
    },
    {
      "cell_type": "code",
      "source": [
        "# Transformar coluna \"Data da Coleta\" em datetime\n",
        "rj['Data da Coleta'] = pd.to_datetime(rj['Data da Coleta'])"
      ],
      "metadata": {
        "id": "v7FQ_Td497cb"
      },
      "execution_count": null,
      "outputs": []
    },
    {
      "cell_type": "code",
      "source": [
        "# Transformar a coluna Data em index para poder fazer a série temporal\n",
        "rj.set_index('Data da Coleta',inplace=True)"
      ],
      "metadata": {
        "id": "ovCar3_U9qO7"
      },
      "execution_count": null,
      "outputs": []
    },
    {
      "cell_type": "code",
      "source": [
        "rj.info()"
      ],
      "metadata": {
        "id": "Dffwsd1qBg_W"
      },
      "execution_count": null,
      "outputs": []
    },
    {
      "cell_type": "code",
      "source": [
        "#reduzindo o dataframe para exibir apenas produto e preço\n",
        "rj= rj.loc[:,['Produto','Valor de Venda']]\n",
        "rj"
      ],
      "metadata": {
        "id": "Fx_Ec0xeEhns"
      },
      "execution_count": null,
      "outputs": []
    },
    {
      "cell_type": "code",
      "source": [
        "# transformando os combustíveis em colunas\n",
        "rjj = rj\n",
        "serierj = rjj.pivot_table(\n",
        "    values=\"Valor de Venda\", \n",
        "    index=\"Data da Coleta\", \n",
        "    columns=\"Produto\",\n",
        ")\n",
        "#serierj"
      ],
      "metadata": {
        "id": "yEe66m43Fw-2"
      },
      "execution_count": null,
      "outputs": []
    },
    {
      "cell_type": "code",
      "source": [
        "# plotando a série temporal por combustível\n",
        "serierj.plot(figsize=(15,6))"
      ],
      "metadata": {
        "colab": {
          "base_uri": "https://localhost:8080/",
          "height": 389
        },
        "id": "8vCKk5xDBtBG",
        "outputId": "29088b40-bd6b-4112-f85a-cbad4744c7b5"
      },
      "execution_count": null,
      "outputs": [
        {
          "output_type": "execute_result",
          "data": {
            "text/plain": [
              "<matplotlib.axes._subplots.AxesSubplot at 0x7fc1fab2f110>"
            ]
          },
          "metadata": {},
          "execution_count": 73
        },
        {
          "output_type": "display_data",
          "data": {
            "text/plain": [
              "<Figure size 1080x432 with 1 Axes>"
            ],
            "image/png": "[encoded data removed]"
          },
          "metadata": {
            "needs_background": "light"
          }
        }
      ]
    }
  ]
}